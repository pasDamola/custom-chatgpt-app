{
 "cells": [
  {
   "cell_type": "markdown",
   "id": "dba2591c-88da-4238-8d89-ee9c04d24619",
   "metadata": {},
   "source": [
    "### Custom ChatGPT App with LangChain\n",
    "\n",
    "\n"
   ]
  },
  {
   "cell_type": "code",
   "execution_count": 3,
   "id": "9cf41a08-ec68-47c6-86ca-bb943d5799b9",
   "metadata": {},
   "outputs": [
    {
     "name": "stdout",
     "output_type": "stream",
     "text": [
      "\n",
      "\u001b[1m[\u001b[0m\u001b[34;49mnotice\u001b[0m\u001b[1;39;49m]\u001b[0m\u001b[39;49m A new release of pip available: \u001b[0m\u001b[31;49m22.3.1\u001b[0m\u001b[39;49m -> \u001b[0m\u001b[32;49m23.3.1\u001b[0m\n",
      "\u001b[1m[\u001b[0m\u001b[34;49mnotice\u001b[0m\u001b[1;39;49m]\u001b[0m\u001b[39;49m To update, run: \u001b[0m\u001b[32;49mpip install --upgrade pip\u001b[0m\n"
     ]
    }
   ],
   "source": [
    "!pip install -r ./requirements.txt -q"
   ]
  },
  {
   "cell_type": "code",
   "execution_count": 10,
   "id": "93d1766c-0553-4dd0-8138-e871aae7e60b",
   "metadata": {},
   "outputs": [
    {
     "data": {
      "text/plain": [
       "True"
      ]
     },
     "execution_count": 10,
     "metadata": {},
     "output_type": "execute_result"
    }
   ],
   "source": [
    "from dotenv import load_dotenv, find_dotenv\n",
    "load_dotenv(find_dotenv(), override=True)"
   ]
  },
  {
   "cell_type": "code",
   "execution_count": null,
   "id": "54b135a9-fa04-42c5-87e4-721b9ca90f4f",
   "metadata": {},
   "outputs": [
    {
     "name": "stdin",
     "output_type": "stream",
     "text": [
      "Your prompt:  Nigeria's top actors in Nollywood\n"
     ]
    },
    {
     "name": "stdout",
     "output_type": "stream",
     "text": [
      "\n",
      "\n",
      "\u001b[1m> Entering new LLMChain chain...\u001b[0m\n",
      "Prompt after formatting:\n",
      "\u001b[32;1m\u001b[1;3mSystem: You are a chatbot having a conversation with a human\n",
      "Human: what does it take to be a senior python engineer\n",
      "AI: To become a senior Python engineer, it usually takes a combination of technical skills, experience, and personal qualities. Here are some key factors:\n",
      "\n",
      "1. Proficiency in Python: A solid understanding of Python programming is essential. This includes knowledge of the language syntax, standard libraries, and Python-specific concepts like generators, decorators, and metaclasses.\n",
      "\n",
      "2. Experience with Python frameworks and libraries: Familiarity with popular Python frameworks like Django, Flask, or Pyramid, as well as libraries such as NumPy, Pandas, or TensorFlow, is beneficial. Being able to efficiently leverage these tools can help solve complex problems and improve development efficiency.\n",
      "\n",
      "3. Strong coding and software engineering skills: A senior Python engineer should have a good grasp of data structures, algorithms, and object-oriented programming principles. Writing clean, modular, and maintainable code is crucial, along with knowledge of design patterns and software development best practices.\n",
      "\n",
      "4. Understanding of database systems: Proficiency in working with relational databases like MySQL, PostgreSQL, or Oracle, and knowledge of concepts like query optimization and indexing is important. Familiarity with non-relational databases like MongoDB or Redis can also be advantageous.\n",
      "\n",
      "5. Knowledge of web development: Understanding the fundamentals of web development, including HTML, CSS, and JavaScript, can be valuable. It's essential to be familiar with concepts like RESTful APIs, HTTP protocols, and web security.\n",
      "\n",
      "6. Problem-solving and debugging skills: Strong troubleshooting and problem-solving abilities are essential for senior engineers. Being able to identify and fix issues, optimize code, and address performance bottlenecks is crucial.\n",
      "\n",
      "7. Communication and leadership skills: As a senior Python engineer, you may need to collaborate with a team, communicate ideas effectively, and mentor junior developers. Excellent communication and leadership skills are important to facilitate effective collaboration.\n",
      "\n",
      "8. Continuous learning and adaptability: Technology is constantly evolving, and a senior engineer must be willing to learn and adapt to new tools, frameworks, and methodologies. Staying up-to-date with industry trends and continuously improving skills is crucial.\n",
      "\n",
      "Experience is gained over time, so practicing programming, working on real-world projects, and continuously seeking opportunities to expand knowledge and skills will contribute to becoming a senior Python engineer.\n",
      "Human: Nigeria's top actors in Nollywood\u001b[0m\n"
     ]
    }
   ],
   "source": [
    "from langchain.chat_models import ChatOpenAI\n",
    "from langchain.schema import SystemMessage\n",
    "from langchain.chains import LLMChain\n",
    "from langchain.prompts import ChatPromptTemplate, HumanMessagePromptTemplate, MessagesPlaceholder\n",
    "from langchain.memory import ConversationBufferMemory, FileChatMessageHistory\n",
    "\n",
    "\n",
    "llm = ChatOpenAI(model_name='gpt-3.5-turbo', temperature=1)\n",
    "\n",
    "# 2 memory object\n",
    "history = FileChatMessageHistory('chat_history.json')\n",
    "memory = ConversationBufferMemory(\n",
    "    memory_key='chat_history',\n",
    "    chat_memory=history,\n",
    "    return_messages=True\n",
    ")\n",
    "\n",
    "# 3.\n",
    "prompt = ChatPromptTemplate(\n",
    "    input_variables=['content'],\n",
    "    messages=[\n",
    "        SystemMessage(content='You are a chatbot having a conversation with a human'),\n",
    "        MessagesPlaceholder(variable_name='chat_history'), #where the memory will be stored\n",
    "        HumanMessagePromptTemplate.from_template('{content}')\n",
    "    ]\n",
    ")\n",
    "\n",
    "chain = LLMChain(\n",
    "    llm=llm,\n",
    "    prompt=prompt,\n",
    "    memory=memory,\n",
    "    verbose=True\n",
    ")\n",
    "\n",
    "while True:\n",
    "    content = input('Your prompt: ')\n",
    "    if content in ['quit', 'exit', 'bye']:\n",
    "        print('Goodbye!')\n",
    "        break\n",
    "\n",
    "\n",
    "    response = chain.run({'content': content})\n",
    "    print(response)\n",
    "    print('-' * 50)\n",
    "\n"
   ]
  },
  {
   "cell_type": "code",
   "execution_count": null,
   "id": "b1443edc-f92e-4439-b72e-b1acf3874c9a",
   "metadata": {},
   "outputs": [],
   "source": []
  }
 ],
 "metadata": {
  "kernelspec": {
   "display_name": "Python 3 (ipykernel)",
   "language": "python",
   "name": "python3"
  },
  "language_info": {
   "codemirror_mode": {
    "name": "ipython",
    "version": 3
   },
   "file_extension": ".py",
   "mimetype": "text/x-python",
   "name": "python",
   "nbconvert_exporter": "python",
   "pygments_lexer": "ipython3",
   "version": "3.10.10"
  }
 },
 "nbformat": 4,
 "nbformat_minor": 5
}
